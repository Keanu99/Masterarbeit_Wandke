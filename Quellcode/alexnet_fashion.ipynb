{
 "cells": [
  {
   "cell_type": "code",
   "outputs": [
    {
     "name": "stdout",
     "output_type": "stream",
     "text": [
      "True\n",
      "Device: cuda:0\n"
     ]
    }
   ],
   "source": [
    "import torch\n",
    "import torchvision\n",
    "import torchvision.transforms as transforms\n",
    "import torch.nn as nn\n",
    "import torch.optim as optim\n",
    "\n",
    "if torch.cuda.is_available():\n",
    "    torch.backends.cudnn.deterministic = True\n",
    "    device = torch.device(\"cuda:0\")\n",
    "    \n",
    "transform = transforms.Compose([\n",
    "    transforms.ToTensor(),\n",
    "    transforms.Normalize((0.5,), (0.5,))\n",
    "])\n",
    "print(torch.cuda.is_available())\n",
    "print(\"Device:\", device)"
   ],
   "metadata": {
    "collapsed": false,
    "ExecuteTime": {
     "end_time": "2024-06-12T19:04:26.631157900Z",
     "start_time": "2024-06-12T19:04:26.623154900Z"
    }
   },
   "id": "f5b3f82720c84bbe",
   "execution_count": 15
  },
  {
   "cell_type": "code",
   "outputs": [],
   "source": [
    "#Config\n",
    "RANDOM_SEED = 1\n",
    "batch_size = 128\n",
    "epochs = 30\n",
    "number_classes = 10\n",
    "learn_rate = 0.001"
   ],
   "metadata": {
    "collapsed": false,
    "ExecuteTime": {
     "end_time": "2024-06-12T19:04:27.215288400Z",
     "start_time": "2024-06-12T19:04:27.203287400Z"
    }
   },
   "id": "20e61e78cd9b39bf",
   "execution_count": 16
  },
  {
   "cell_type": "code",
   "outputs": [],
   "source": [
    "torch.manual_seed(RANDOM_SEED)\n",
    "\n",
    "trainset = torchvision.datasets.FashionMNIST(\n",
    "    root='./data', train=True, download=True, transform=transform)\n",
    "\n",
    "trainloader = torch.utils.data.DataLoader(\n",
    "    trainset, batch_size=batch_size, shuffle=True, num_workers=2)\n",
    "\n",
    "testset = torchvision.datasets.FashionMNIST(\n",
    "    root='./data', train=False, download=True, transform=transform)\n",
    "\n",
    "testloader = torch.utils.data.DataLoader(\n",
    "    testset, batch_size=batch_size, shuffle=False, num_workers=2)\n",
    "\n",
    "# Klassen für Fashion-MNIST\n",
    "#classes = ('T-shirt/top', 'Trouser', 'Pullover', 'Dress', 'Coat', 'Sandal', 'Shirt', 'Sneaker', 'Bag', 'Ankle boot')"
   ],
   "metadata": {
    "collapsed": false,
    "ExecuteTime": {
     "end_time": "2024-06-12T19:04:27.883440100Z",
     "start_time": "2024-06-12T19:04:27.831428100Z"
    }
   },
   "id": "fb55543bbe1601c2",
   "execution_count": 17
  },
  {
   "cell_type": "code",
   "outputs": [],
   "source": [
    "class AlexNet(nn.Module):\n",
    "    def __init__(self, num_classes):\n",
    "        super(AlexNet, self).__init__()\n",
    "        self.features = nn.Sequential(\n",
    "            nn.Conv2d(in_channels=1, out_channels=64, kernel_size=3, stride=1, padding=1), #in_channels auf 1 (Schwarz/weiß)\n",
    "            nn.ReLU(inplace=True),\n",
    "            nn.MaxPool2d(kernel_size=2, stride=2),\n",
    "            \n",
    "            nn.Conv2d(in_channels=64, out_channels=192, kernel_size=3, stride=1, padding=1),\n",
    "            nn.ReLU(inplace=True),\n",
    "            nn.MaxPool2d(kernel_size=2, stride=2),\n",
    "            \n",
    "            nn.Conv2d(in_channels=192, out_channels=384, kernel_size=3, stride=1, padding=1),\n",
    "            nn.ReLU(inplace=True),\n",
    "            \n",
    "            nn.Conv2d(in_channels=384, out_channels=256, kernel_size=3, stride=1, padding=1),\n",
    "            nn.ReLU(inplace=True),\n",
    "            \n",
    "            nn.Conv2d(in_channels=256, out_channels=256, kernel_size=3, stride=1, padding=1),\n",
    "            nn.ReLU(inplace=True),\n",
    "            nn.MaxPool2d(kernel_size=2, stride=2),\n",
    "        )\n",
    "        self.avgpool = nn.AdaptiveAvgPool2d((6, 6))\n",
    "        self.classifier = nn.Sequential(\n",
    "            nn.Dropout(0.5),\n",
    "            nn.Linear(256 * 6 * 6, 4096),\n",
    "            nn.ReLU(inplace=True),\n",
    "            nn.Dropout(0.5),\n",
    "            nn.Linear(4096, 4096),\n",
    "            nn.ReLU(inplace=True),\n",
    "            nn.Linear(4096, num_classes),\n",
    "        )\n",
    "\n",
    "    def forward(self, x):\n",
    "        x = self.features(x)\n",
    "        x = self.avgpool(x)\n",
    "        x = x.view(x.size(0), 256 * 6 * 6)\n",
    "        x = self.classifier(x)\n",
    "        return x\n",
    "\n",
    "net = AlexNet(number_classes).to(device)  # Move the entire model to GPU\n"
   ],
   "metadata": {
    "collapsed": false,
    "ExecuteTime": {
     "end_time": "2024-06-12T19:04:28.781643200Z",
     "start_time": "2024-06-12T19:04:28.425564100Z"
    }
   },
   "id": "73d020b90c54b2b9",
   "execution_count": 18
  },
  {
   "cell_type": "code",
   "outputs": [],
   "source": [
    "criterion = nn.CrossEntropyLoss()\n",
    "optimizer = optim.SGD(net.parameters(), lr=learn_rate, momentum=0.9)"
   ],
   "metadata": {
    "collapsed": false,
    "ExecuteTime": {
     "end_time": "2024-06-12T19:04:29.339769Z",
     "start_time": "2024-06-12T19:04:29.325765600Z"
    }
   },
   "id": "40f01181ad1d6f85",
   "execution_count": 19
  },
  {
   "cell_type": "code",
   "outputs": [],
   "source": [
    "import keyboard\n",
    "import time\n",
    "\n",
    "def simulate_key_press(key):\n",
    "    keyboard.press(key)\n",
    "    time.sleep(0.1)  # Halte die Taste für 0.1 Sekunden gedrückt\n",
    "    keyboard.release(key)\n"
   ],
   "metadata": {
    "collapsed": false,
    "ExecuteTime": {
     "end_time": "2024-06-12T19:04:29.835881500Z",
     "start_time": "2024-06-12T19:04:29.827879600Z"
    }
   },
   "id": "d5138649e4988756",
   "execution_count": 20
  },
  {
   "cell_type": "code",
   "outputs": [
    {
     "name": "stdout",
     "output_type": "stream",
     "text": [
      "Epoch 1/30, Elapsed Time: 13.39 seconds\n",
      "Epoch 2/30, Elapsed Time: 13.35 seconds\n",
      "Epoch 3/30, Elapsed Time: 13.32 seconds\n",
      "Epoch 4/30, Elapsed Time: 13.25 seconds\n",
      "Epoch 5/30, Elapsed Time: 13.36 seconds\n",
      "Epoch 6/30, Elapsed Time: 13.22 seconds\n",
      "Epoch 7/30, Elapsed Time: 13.35 seconds\n",
      "Epoch 8/30, Elapsed Time: 13.25 seconds\n",
      "Epoch 9/30, Elapsed Time: 13.34 seconds\n",
      "Epoch 10/30, Elapsed Time: 13.24 seconds\n",
      "Epoch 11/30, Elapsed Time: 13.35 seconds\n",
      "Epoch 12/30, Elapsed Time: 13.38 seconds\n",
      "Epoch 13/30, Elapsed Time: 13.40 seconds\n",
      "Epoch 14/30, Elapsed Time: 13.27 seconds\n",
      "Epoch 15/30, Elapsed Time: 13.35 seconds\n",
      "Epoch 16/30, Elapsed Time: 13.37 seconds\n",
      "Epoch 17/30, Elapsed Time: 13.38 seconds\n",
      "Epoch 18/30, Elapsed Time: 13.25 seconds\n",
      "Epoch 19/30, Elapsed Time: 13.38 seconds\n",
      "Epoch 20/30, Elapsed Time: 13.23 seconds\n",
      "Epoch 21/30, Elapsed Time: 13.34 seconds\n",
      "Epoch 22/30, Elapsed Time: 13.26 seconds\n",
      "Epoch 23/30, Elapsed Time: 13.35 seconds\n",
      "Epoch 24/30, Elapsed Time: 13.24 seconds\n",
      "Epoch 25/30, Elapsed Time: 13.35 seconds\n",
      "Epoch 26/30, Elapsed Time: 13.23 seconds\n",
      "Epoch 27/30, Elapsed Time: 13.36 seconds\n",
      "Epoch 28/30, Elapsed Time: 13.23 seconds\n",
      "Epoch 29/30, Elapsed Time: 13.37 seconds\n",
      "Epoch 30/30, Elapsed Time: 13.24 seconds\n",
      "Accuracy on test data: 89.49\n",
      "Total Training Time: 399.40 seconds\n",
      "Finished Training\n"
     ]
    }
   ],
   "source": [
    "time.sleep(1)\n",
    "\n",
    "# Funktion zur Berechnung der Genauigkeit auf den Testdaten\n",
    "def calculate_accuracy(loader):\n",
    "    correct = 0\n",
    "    total = 0\n",
    "    with torch.no_grad():\n",
    "        for data in loader:\n",
    "            inputs, labels = data[0].to(device), data[1].to(device)\n",
    "            outputs = net(inputs)\n",
    "            _, predicted = torch.max(outputs.data, 1)\n",
    "            total += labels.size(0)\n",
    "            correct += (predicted == labels).sum().item()\n",
    "    return correct / total\n",
    "\n",
    "simulate_key_press('p')\n",
    "start_time = time.time()\n",
    "for epoch in range(epochs):  \n",
    "    epoch_start_time = time.time()\n",
    "    running_loss = 0.0\n",
    "    for i, data in enumerate(trainloader, 0):\n",
    "        # get the inputs; data is a list of [inputs, labels]\n",
    "        inputs, labels = data[0].to(device), data[1].to(device)  # Move data to GPU\n",
    "\n",
    "        # zero the parameter gradients\n",
    "        optimizer.zero_grad()\n",
    "                \n",
    "        # forward + backward + optimize\n",
    "        outputs = net(inputs)\n",
    "        loss = criterion(outputs, labels)\n",
    "        loss.backward()\n",
    "        optimizer.step()       \n",
    "        \n",
    "        # print statistics\n",
    "        running_loss += loss.item()\n",
    "        if i % 2000 == 1999:    \n",
    "            print('[%d, %5d] loss: %.3f' %\n",
    "                  (epoch + 1, i + 1, running_loss / 2000))\n",
    "            running_loss = 0.0\n",
    "\n",
    "    epoch_end_time = time.time()\n",
    "    elapsed_time = epoch_end_time - epoch_start_time\n",
    "    print(f\"Epoch {epoch + 1}/{epochs}, Elapsed Time: {elapsed_time:.2f} seconds\")\n",
    "\n",
    "\n",
    "total_training_time = time.time() - start_time\n",
    "# Berechnung der Genauigkeit auf den Testdaten\n",
    "total_accuracy = calculate_accuracy(testloader) * 100\n",
    "print(f\"Accuracy on test data: {total_accuracy:.2f}\")\n",
    "\n",
    "print(f\"Total Training Time: {total_training_time:.2f} seconds\")\n",
    "print('Finished Training')\n",
    "time.sleep(1)\n",
    "simulate_key_press('p')"
   ],
   "metadata": {
    "collapsed": false,
    "ExecuteTime": {
     "end_time": "2024-06-12T19:11:16.502731100Z",
     "start_time": "2024-06-12T19:04:30.439017200Z"
    }
   },
   "id": "7bd8dc8f2a3b8acf",
   "execution_count": 21
  },
  {
   "cell_type": "code",
   "outputs": [],
   "source": [
    "import csv\n",
    "import os\n",
    "\n",
    "#Zum loggen der Trainingslaufzeit und accuracy  des Models\n",
    "\n",
    "def add_row_to_csv(filename, datensatz_name, frequency, voltage, runtime, accuracy):\n",
    "    # Daten für die neue Zeile\n",
    "    new_row = {'Datensatz': datensatz_name, 'Frequenz': frequency, 'voltage': voltage, 'Laufzeit': runtime, 'Accuracy': accuracy}\n",
    "    \n",
    "    # Überprüfe, ob die Datei existiert\n",
    "    file_exists = os.path.isfile(filename)\n",
    "    \n",
    "    # Öffne die CSV-Datei im Modus 'a' (append), um Werte hinzuzufügen\n",
    "    with open(filename, 'a', newline='') as csvfile:\n",
    "        # Erstelle einen CSV-Writer, wenn die Datei neu erstellt wird\n",
    "        writer = csv.DictWriter(csvfile, fieldnames=['Datensatz', 'Frequenz', 'voltage', 'Laufzeit', 'Accuracy'])\n",
    "        \n",
    "        # Schreibe die Kopfzeile, falls die Datei neu erstellt wurde\n",
    "        if not file_exists:\n",
    "            writer.writeheader()\n",
    "        \n",
    "        # Schreibe die neue Zeile in die CSV-Datei\n",
    "        writer.writerow(new_row)\n",
    "\n",
    "# Beispielaufruf der Funktion\n",
    "filename = 'alexnet_fashion_spannung.csv'\n",
    "datensatz_name = 'fashion'\n",
    "frequency = '3600'\n",
    "voltage = '1.1'\n",
    "runtime = round(total_training_time, 2)\n",
    "accuracy = round(total_accuracy, 2)\n",
    "\n",
    "add_row_to_csv(filename, datensatz_name, frequency, voltage, runtime, accuracy)\n"
   ],
   "metadata": {
    "collapsed": false,
    "ExecuteTime": {
     "end_time": "2024-06-05T14:38:32.395943400Z",
     "start_time": "2024-06-05T14:38:32.379940200Z"
    }
   },
   "id": "b4dc793ed119dc3d",
   "execution_count": 32
  },
  {
   "cell_type": "code",
   "outputs": [],
   "source": [],
   "metadata": {
    "collapsed": false
   },
   "id": "3308ed37bb89fd21"
  }
 ],
 "metadata": {
  "kernelspec": {
   "display_name": "Python 3",
   "language": "python",
   "name": "python3"
  },
  "language_info": {
   "codemirror_mode": {
    "name": "ipython",
    "version": 2
   },
   "file_extension": ".py",
   "mimetype": "text/x-python",
   "name": "python",
   "nbconvert_exporter": "python",
   "pygments_lexer": "ipython2",
   "version": "2.7.6"
  }
 },
 "nbformat": 4,
 "nbformat_minor": 5
}
